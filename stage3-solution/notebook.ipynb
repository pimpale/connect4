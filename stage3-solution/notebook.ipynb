{
 "cells": [
  {
   "cell_type": "code",
   "execution_count": 1,
   "metadata": {},
   "outputs": [],
   "source": [
    "%load_ext autoreload\n",
    "%autoreload 2\n",
    "import env\n",
    "import policy"
   ]
  },
  {
   "cell_type": "code",
   "execution_count": 2,
   "metadata": {},
   "outputs": [],
   "source": [
    "e = env.Env()"
   ]
  },
  {
   "cell_type": "code",
   "execution_count": 3,
   "metadata": {},
   "outputs": [
    {
     "name": "stdout",
     "output_type": "stream",
     "text": [
      "              \n",
      "              \n",
      "              \n",
      "              \n",
      "              \n",
      "              \n",
      "\n",
      "0 1 2 3 4 5 6\n",
      "legal mask: [ True  True  True  True  True  True  True]\n",
      "              \n",
      "              \n",
      "              \n",
      "              \n",
      "              \n",
      "#       O     \n",
      "\n",
      "0 1 2 3 4 5 6\n",
      "legal mask: [ True  True  True  True  True  True  True]\n",
      "              \n",
      "              \n",
      "              \n",
      "              \n",
      "#             \n",
      "#       O O   \n",
      "\n",
      "0 1 2 3 4 5 6\n",
      "legal mask: [ True  True  True  True  True  True  True]\n",
      "              \n",
      "              \n",
      "              \n",
      "#             \n",
      "#       O     \n",
      "#       O O   \n",
      "\n",
      "0 1 2 3 4 5 6\n",
      "legal mask: [ True  True  True  True  True  True  True]\n",
      "You win!\n",
      "Final board:\n",
      "              \n",
      "              \n",
      "O             \n",
      "O             \n",
      "O       #     \n",
      "O       # #   \n",
      "\n"
     ]
    }
   ],
   "source": [
    "actor = policy.HumanPolicy()\n",
    "opponent = policy.NNCheckpointPolicy(checkpoint_path='./summary/nn_model_ep_500_actor.ckpt')\n",
    "\n",
    "current_player = env.PLAYER1\n",
    "while not e.game_over():\n",
    "    if current_player == env.PLAYER1:\n",
    "        a = actor(e.state)\n",
    "        e.step(a)\n",
    "    else:\n",
    "        a = opponent(e.state)\n",
    "        e.step(a)\n",
    "    \n",
    "    if not e.game_over():\n",
    "        current_player = env.opponent(current_player)\n",
    "\n",
    "if e.winner() == env.PLAYER1:\n",
    "    print(\"You win!\")\n",
    "elif e.winner() == env.PLAYER2:\n",
    "    print(\"You lose!\")\n",
    "else:\n",
    "    print(\"Draw!\")\n",
    "print(\"Final board:\")\n",
    "env.print_state(e.state)"
   ]
  },
  {
   "cell_type": "code",
   "execution_count": 4,
   "metadata": {},
   "outputs": [
    {
     "data": {
      "text/plain": [
       "Actor(\n",
       "  (conv1): Conv2d(2, 128, kernel_size=(3, 3), stride=(1, 1))\n",
       "  (conv2): Conv2d(128, 128, kernel_size=(3, 3), stride=(1, 1))\n",
       "  (fc1): Linear(in_features=768, out_features=512, bias=True)\n",
       "  (fc2): Linear(in_features=512, out_features=7, bias=True)\n",
       ")"
      ]
     },
     "execution_count": 4,
     "metadata": {},
     "output_type": "execute_result"
    }
   ],
   "source": [
    "import network\n",
    "import torch\n",
    "device = torch.device('cuda' if torch.cuda.is_available() else 'cpu')\n",
    "policy_net = network.Actor(env.BOARD_XSIZE, env.BOARD_YSIZE).to(device)\n",
    "policy_net.load_state_dict(torch.load('./summary/nn_model_ep_500_actor.ckpt'))\n",
    "policy_net.eval()"
   ]
  },
  {
   "cell_type": "code",
   "execution_count": 5,
   "metadata": {},
   "outputs": [
    {
     "name": "stdout",
     "output_type": "stream",
     "text": [
      "[ True  True  True  True  True  True  True]\n",
      "              \n",
      "              \n",
      "              \n",
      "  #       O   \n",
      "  #       O   \n",
      "  #       O   \n",
      "\n",
      "0 1 2 3 4 5 6 7\n",
      "tensor([0.1322, 0.2072, 0.1468, 0.1449, 0.1328, 0.1133, 0.1227],\n",
      "       device='cuda:0', grad_fn=<SelectBackward0>)\n"
     ]
    }
   ],
   "source": [
    "e = env.Env()\n",
    "\n",
    "# simulate a game\n",
    "e.step(env.Action(1))\n",
    "e.step(env.Action(5))\n",
    "e.step(env.Action(1))\n",
    "e.step(env.Action(5))\n",
    "e.step(env.Action(1))\n",
    "e.step(env.Action(5))\n",
    "\n",
    "\n",
    "# see what the network thinks of the current state\n",
    "print(e.state.legal_mask())\n",
    "env.print_state(e.state)\n",
    "print('0 1 2 3 4 5 6 7')\n",
    "print(policy_net.forward(network.state_batch_to_tensor([e.state], device))[0])"
   ]
  }
 ],
 "metadata": {
  "kernelspec": {
   "display_name": ".venv",
   "language": "python",
   "name": "python3"
  },
  "language_info": {
   "codemirror_mode": {
    "name": "ipython",
    "version": 3
   },
   "file_extension": ".py",
   "mimetype": "text/x-python",
   "name": "python",
   "nbconvert_exporter": "python",
   "pygments_lexer": "ipython3",
   "version": "3.13.0"
  },
  "orig_nbformat": 4
 },
 "nbformat": 4,
 "nbformat_minor": 2
}
