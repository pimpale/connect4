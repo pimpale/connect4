{
 "cells": [
  {
   "cell_type": "code",
   "execution_count": 5,
   "metadata": {},
   "outputs": [
    {
     "name": "stdout",
     "output_type": "stream",
     "text": [
      "The autoreload extension is already loaded. To reload it, use:\n",
      "  %reload_ext autoreload\n"
     ]
    }
   ],
   "source": [
    "%load_ext autoreload\n",
    "%autoreload 2\n",
    "import env\n",
    "import policy\n"
   ]
  },
  {
   "cell_type": "code",
   "execution_count": 6,
   "metadata": {},
   "outputs": [],
   "source": [
    "e = env.Env()"
   ]
  },
  {
   "cell_type": "code",
   "execution_count": 7,
   "metadata": {},
   "outputs": [
    {
     "name": "stdout",
     "output_type": "stream",
     "text": [
      "              \n",
      "              \n",
      "              \n",
      "              \n",
      "              \n",
      "              \n",
      "\n",
      "0 1 2 3 4 5 6\n",
      "legal mask: [ True  True  True  True  True  True  True]\n",
      "              \n",
      "              \n",
      "              \n",
      "              \n",
      "              \n",
      "#   O         \n",
      "\n",
      "0 1 2 3 4 5 6\n",
      "legal mask: [ True  True  True  True  True  True  True]\n",
      "              \n",
      "              \n",
      "              \n",
      "              \n",
      "#             \n",
      "#   O   O     \n",
      "\n",
      "0 1 2 3 4 5 6\n",
      "legal mask: [ True  True  True  True  True  True  True]\n",
      "              \n",
      "              \n",
      "O             \n",
      "#             \n",
      "#             \n",
      "#   O   O     \n",
      "\n",
      "0 1 2 3 4 5 6\n",
      "legal mask: [ True  True  True  True  True  True  True]\n",
      "              \n",
      "              \n",
      "O             \n",
      "#             \n",
      "#             \n",
      "# O O # O     \n",
      "\n",
      "0 1 2 3 4 5 6\n",
      "legal mask: [ True  True  True  True  True  True  True]\n",
      "              \n",
      "              \n",
      "O             \n",
      "#             \n",
      "#       #     \n",
      "# O O # O O   \n",
      "\n",
      "0 1 2 3 4 5 6\n",
      "legal mask: [ True  True  True  True  True  True  True]\n",
      "              \n",
      "              \n",
      "O             \n",
      "#             \n",
      "#   # O #     \n",
      "# O O # O O   \n",
      "\n",
      "0 1 2 3 4 5 6\n",
      "legal mask: [ True  True  True  True  True  True  True]\n",
      "              \n",
      "              \n",
      "O             \n",
      "# O           \n",
      "# # # O #     \n",
      "# O O # O O   \n",
      "\n",
      "0 1 2 3 4 5 6\n",
      "legal mask: [ True  True  True  True  True  True  True]\n",
      "              \n",
      "              \n",
      "O O           \n",
      "# O           \n",
      "# # # O # #   \n",
      "# O O # O O   \n",
      "\n",
      "0 1 2 3 4 5 6\n",
      "legal mask: [ True  True  True  True  True  True  True]\n",
      "              \n",
      "  O           \n",
      "O O           \n",
      "# O           \n",
      "# # # O # #   \n",
      "# O O # O O # \n",
      "\n",
      "0 1 2 3 4 5 6\n",
      "legal mask: [ True  True  True  True  True  True  True]\n",
      "              \n",
      "  O           \n",
      "O O           \n",
      "# O         O \n",
      "# # # O # # # \n",
      "# O O # O O # \n",
      "\n",
      "0 1 2 3 4 5 6\n",
      "legal mask: [ True  True  True  True  True  True  True]\n"
     ]
    },
    {
     "ename": "ValueError",
     "evalue": "invalid literal for int() with base 10: 'c'",
     "output_type": "error",
     "traceback": [
      "\u001b[31m---------------------------------------------------------------------------\u001b[39m",
      "\u001b[31mValueError\u001b[39m                                Traceback (most recent call last)",
      "\u001b[36mCell\u001b[39m\u001b[36m \u001b[39m\u001b[32mIn[7]\u001b[39m\u001b[32m, line 7\u001b[39m\n\u001b[32m      5\u001b[39m \u001b[38;5;28;01mwhile\u001b[39;00m \u001b[38;5;129;01mnot\u001b[39;00m e.game_over():\n\u001b[32m      6\u001b[39m     \u001b[38;5;28;01mif\u001b[39;00m current_player == env.PLAYER1:\n\u001b[32m----> \u001b[39m\u001b[32m7\u001b[39m         a = \u001b[43mactor\u001b[49m\u001b[43m(\u001b[49m\u001b[43me\u001b[49m\u001b[43m.\u001b[49m\u001b[43mstate\u001b[49m\u001b[43m)\u001b[49m\n\u001b[32m      8\u001b[39m         e.step(a)\n\u001b[32m      9\u001b[39m     \u001b[38;5;28;01melse\u001b[39;00m:\n",
      "\u001b[36mFile \u001b[39m\u001b[32m~/myworkspace/connect4/stage2-solution/policy.py:42\u001b[39m, in \u001b[36mHumanPolicy.__call__\u001b[39m\u001b[34m(self, s)\u001b[39m\n\u001b[32m     40\u001b[39m legal_mask = s.legal_mask()\n\u001b[32m     41\u001b[39m \u001b[38;5;28mprint\u001b[39m(\u001b[33m\"\u001b[39m\u001b[33mlegal mask:\u001b[39m\u001b[33m\"\u001b[39m, legal_mask)\n\u001b[32m---> \u001b[39m\u001b[32m42\u001b[39m chosen_action = \u001b[43mnp\u001b[49m\u001b[43m.\u001b[49m\u001b[43mint8\u001b[49m\u001b[43m(\u001b[49m\u001b[38;5;28;43minput\u001b[39;49m\u001b[43m(\u001b[49m\u001b[33;43m\"\u001b[39;49m\u001b[33;43mChoose action: \u001b[39;49m\u001b[33;43m\"\u001b[39;49m\u001b[43m)\u001b[49m\u001b[43m)\u001b[49m\n\u001b[32m     43\u001b[39m \u001b[38;5;28;01mreturn\u001b[39;00m env.Action(chosen_action)\n",
      "\u001b[31mValueError\u001b[39m: invalid literal for int() with base 10: 'c'"
     ]
    }
   ],
   "source": [
    "actor = policy.HumanPolicy()\n",
    "opponent = policy.MinimaxPolicy(3, 0.0)\n",
    "\n",
    "current_player = env.PLAYER1\n",
    "while not e.game_over():\n",
    "    if current_player == env.PLAYER1:\n",
    "        a = actor(e.state)\n",
    "        e.step(a)\n",
    "    else:\n",
    "        a = opponent(e.state)\n",
    "        e.step(a)\n",
    "    \n",
    "    if not e.game_over():\n",
    "        current_player = env.opponent(current_player)\n",
    "\n",
    "if e.winner() == env.PLAYER1:\n",
    "    print(\"You win!\")\n",
    "elif e.winner() == env.PLAYER2:\n",
    "    print(\"You lose!\")\n",
    "else:\n",
    "    print(\"Draw!\")\n",
    "print(\"Final board:\")\n",
    "env.print_state(e.state)"
   ]
  },
  {
   "cell_type": "code",
   "execution_count": null,
   "metadata": {},
   "outputs": [],
   "source": []
  }
 ],
 "metadata": {
  "kernelspec": {
   "display_name": ".venv",
   "language": "python",
   "name": "python3"
  },
  "language_info": {
   "codemirror_mode": {
    "name": "ipython",
    "version": 3
   },
   "file_extension": ".py",
   "mimetype": "text/x-python",
   "name": "python",
   "nbconvert_exporter": "python",
   "pygments_lexer": "ipython3",
   "version": "3.13.0"
  },
  "orig_nbformat": 4
 },
 "nbformat": 4,
 "nbformat_minor": 2
}
