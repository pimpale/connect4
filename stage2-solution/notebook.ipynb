{
 "cells": [
  {
   "cell_type": "code",
   "execution_count": 1,
   "metadata": {},
   "outputs": [],
   "source": [
    "%load_ext autoreload\n",
    "%autoreload 2\n",
    "import env\n",
    "import policy\n"
   ]
  },
  {
   "cell_type": "code",
   "execution_count": 3,
   "metadata": {},
   "outputs": [],
   "source": [
    "e = env.Env()"
   ]
  },
  {
   "cell_type": "code",
   "execution_count": 4,
   "metadata": {},
   "outputs": [
    {
     "name": "stdout",
     "output_type": "stream",
     "text": [
      "              \n",
      "              \n",
      "              \n",
      "              \n",
      "              \n",
      "              \n",
      "\n",
      "0 1 2 3 4 5 6\n",
      "legal mask: [ True  True  True  True  True  True  True]\n",
      "              \n",
      "              \n",
      "              \n",
      "              \n",
      "              \n",
      "#       O     \n",
      "\n",
      "0 1 2 3 4 5 6\n",
      "legal mask: [ True  True  True  True  True  True  True]\n",
      "              \n",
      "              \n",
      "              \n",
      "              \n",
      "#             \n",
      "#   O   O     \n",
      "\n",
      "0 1 2 3 4 5 6\n",
      "legal mask: [ True  True  True  True  True  True  True]\n",
      "              \n",
      "              \n",
      "              \n",
      "#             \n",
      "#             \n",
      "#   O   O   O \n",
      "\n",
      "0 1 2 3 4 5 6\n",
      "legal mask: [ True  True  True  True  True  True  True]\n",
      "You lose!\n",
      "Final board:\n",
      "              \n",
      "              \n",
      "O             \n",
      "O             \n",
      "O             \n",
      "O   #   #   # \n",
      "\n"
     ]
    }
   ],
   "source": [
    "actor = policy.HumanPolicy()\n",
    "opponent = policy.MinimaxPolicy(3, 0.0)\n",
    "\n",
    "current_player = env.PLAYER1\n",
    "while not e.game_over():\n",
    "    if current_player == env.PLAYER1:\n",
    "        a = actor(e.state)\n",
    "        e.step(a)\n",
    "    else:\n",
    "        a = opponent(e.state)\n",
    "        e.step(a)\n",
    "    \n",
    "    # flip turn\n",
    "    if not e.game_over():\n",
    "        current_player = env.opponent(current_player)\n",
    "\n",
    "if e.winner() == env.PLAYER1:\n",
    "    print(\"You win!\")\n",
    "elif e.winner() == env.PLAYER2:\n",
    "    print(\"You lose!\")\n",
    "else:\n",
    "    print(\"Draw!\")\n",
    "print(\"Final board:\")\n",
    "env.print_state(e.state)"
   ]
  },
  {
   "cell_type": "code",
   "execution_count": null,
   "metadata": {},
   "outputs": [],
   "source": []
  }
 ],
 "metadata": {
  "kernelspec": {
   "display_name": ".venv",
   "language": "python",
   "name": "python3"
  },
  "language_info": {
   "codemirror_mode": {
    "name": "ipython",
    "version": 3
   },
   "file_extension": ".py",
   "mimetype": "text/x-python",
   "name": "python",
   "nbconvert_exporter": "python",
   "pygments_lexer": "ipython3",
   "version": "3.13.0"
  },
  "orig_nbformat": 4
 },
 "nbformat": 4,
 "nbformat_minor": 2
}
