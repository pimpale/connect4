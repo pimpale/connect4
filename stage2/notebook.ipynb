{
 "cells": [
  {
   "cell_type": "code",
   "execution_count": 4,
   "metadata": {},
   "outputs": [
    {
     "name": "stdout",
     "output_type": "stream",
     "text": [
      "The autoreload extension is already loaded. To reload it, use:\n",
      "  %reload_ext autoreload\n"
     ]
    }
   ],
   "source": [
    "%load_ext autoreload\n",
    "%autoreload 2\n",
    "import env\n",
    "import policy"
   ]
  },
  {
   "cell_type": "code",
   "execution_count": 5,
   "metadata": {},
   "outputs": [],
   "source": [
    "e = env.Env()"
   ]
  },
  {
   "cell_type": "code",
   "execution_count": null,
   "metadata": {},
   "outputs": [
    {
     "name": "stdout",
     "output_type": "stream",
     "text": [
      "              \n",
      "              \n",
      "              \n",
      "              \n",
      "              \n",
      "              \n",
      "\n",
      "0 1 2 3 4 5 6\n",
      "legal mask: [ True  True  True  True  True  True  True]\n"
     ]
    },
    {
     "ename": "TypeError",
     "evalue": "minimax() missing 1 required positional argument: 'player'",
     "output_type": "error",
     "traceback": [
      "\u001b[31m---------------------------------------------------------------------------\u001b[39m",
      "\u001b[31mTypeError\u001b[39m                                 Traceback (most recent call last)",
      "\u001b[36mCell\u001b[39m\u001b[36m \u001b[39m\u001b[32mIn[7]\u001b[39m\u001b[32m, line 10\u001b[39m\n\u001b[32m      8\u001b[39m     e.step(a)\n\u001b[32m      9\u001b[39m \u001b[38;5;28;01melse\u001b[39;00m:\n\u001b[32m---> \u001b[39m\u001b[32m10\u001b[39m     a = \u001b[43mopponent\u001b[49m\u001b[43m(\u001b[49m\u001b[43me\u001b[49m\u001b[43m.\u001b[49m\u001b[43mstate\u001b[49m\u001b[43m)\u001b[49m\n\u001b[32m     11\u001b[39m     e.step(a)\n\u001b[32m     13\u001b[39m \u001b[38;5;66;03m# flip turn\u001b[39;00m\n",
      "\u001b[36mFile \u001b[39m\u001b[32m~/myworkspace/connect4/stage2/policy.py:70\u001b[39m, in \u001b[36m__call__\u001b[39m\u001b[34m(self, s)\u001b[39m\n\u001b[32m     63\u001b[39m \u001b[38;5;28;01mdef\u001b[39;00m\u001b[38;5;250m \u001b[39m\u001b[34mminimax\u001b[39m(\n\u001b[32m     64\u001b[39m     e: env.Env, depth: \u001b[38;5;28mint\u001b[39m, alpha: \u001b[38;5;28mfloat\u001b[39m, beta: \u001b[38;5;28mfloat\u001b[39m, player: env.Player\n\u001b[32m     65\u001b[39m ) -> \u001b[38;5;28mtuple\u001b[39m[\u001b[38;5;28mfloat\u001b[39m, env.Action]:\n\u001b[32m     66\u001b[39m     \u001b[38;5;66;03m# TODO: Insert your code here\u001b[39;00m\n\u001b[32m     67\u001b[39m     \u001b[38;5;28;01mpass\u001b[39;00m\n\u001b[32m---> \u001b[39m\u001b[32m70\u001b[39m \u001b[38;5;28;01mclass\u001b[39;00m\u001b[38;5;250m \u001b[39m\u001b[34;01mMinimaxPolicy\u001b[39;00m(Policy):\n\u001b[32m     71\u001b[39m     depth: \u001b[38;5;28mint\u001b[39m\n\u001b[32m     72\u001b[39m     randomness: \u001b[38;5;28mfloat\u001b[39m\n",
      "\u001b[31mTypeError\u001b[39m: minimax() missing 1 required positional argument: 'player'"
     ]
    }
   ],
   "source": [
    "actor = policy.HumanPolicy()\n",
    "opponent = policy.RandomPolicy()\n",
    "\n",
    "current_player = env.PLAYER1\n",
    "while not e.game_over():\n",
    "    if current_player == env.PLAYER1:\n",
    "        a = actor(e.state)\n",
    "        e.step(a)\n",
    "    else:\n",
    "        a = opponent(e.state)\n",
    "        e.step(a)\n",
    "    \n",
    "    if not e.game_over():\n",
    "        current_player = env.opponent(current_player)\n",
    "\n",
    "if e.winner() == env.PLAYER1:\n",
    "    print(\"You win!\")\n",
    "elif e.winner() == env.PLAYER2:\n",
    "    print(\"You lose!\")\n",
    "else:\n",
    "    print(\"Draw!\")\n",
    "print(\"Final board:\")\n",
    "env.print_state(e.state)"
   ]
  },
  {
   "cell_type": "code",
   "execution_count": null,
   "metadata": {},
   "outputs": [],
   "source": []
  }
 ],
 "metadata": {
  "kernelspec": {
   "display_name": ".venv",
   "language": "python",
   "name": "python3"
  },
  "language_info": {
   "codemirror_mode": {
    "name": "ipython",
    "version": 3
   },
   "file_extension": ".py",
   "mimetype": "text/x-python",
   "name": "python",
   "nbconvert_exporter": "python",
   "pygments_lexer": "ipython3",
   "version": "3.13.0"
  },
  "orig_nbformat": 4
 },
 "nbformat": 4,
 "nbformat_minor": 2
}
