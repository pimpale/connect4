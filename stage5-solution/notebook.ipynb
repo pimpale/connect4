{
 "cells": [
  {
   "cell_type": "code",
   "execution_count": 1,
   "metadata": {},
   "outputs": [],
   "source": [
    "import numpy as np\n",
    "\n",
    "%load_ext autoreload\n",
    "%autoreload 2\n",
    "import env\n",
    "import player\n"
   ]
  },
  {
   "cell_type": "code",
   "execution_count": 2,
   "metadata": {},
   "outputs": [],
   "source": [
    "BOARD_XSIZE = 7\n",
    "BOARD_YSIZE = 6\n",
    "DIMS = (BOARD_YSIZE, BOARD_XSIZE)\n",
    "e = env.Env(DIMS)\n"
   ]
  },
  {
   "cell_type": "code",
   "execution_count": 3,
   "metadata": {},
   "outputs": [
    {
     "name": "stdout",
     "output_type": "stream",
     "text": [
      "              \n",
      "              \n",
      "              \n",
      "              \n",
      "              \n",
      "              \n",
      "\n",
      "0 1 2 3 4 5 6\n",
      "legal mask: [ True  True  True  True  True  True  True]\n",
      "-0.37994896225522495\n",
      "              \n",
      "              \n",
      "              \n",
      "              \n",
      "              \n",
      "#     O       \n",
      "\n",
      "0 1 2 3 4 5 6\n",
      "legal mask: [ True  True  True  True  True  True  True]\n",
      "-0.8336546070121553\n",
      "              \n",
      "              \n",
      "              \n",
      "              \n",
      "              \n",
      "# # O O       \n",
      "\n",
      "0 1 2 3 4 5 6\n",
      "legal mask: [ True  True  True  True  True  True  True]\n",
      "-0.9926315202011281\n",
      "              \n",
      "              \n",
      "              \n",
      "              \n",
      "#             \n",
      "# # O O O     \n",
      "\n",
      "0 1 2 3 4 5 6\n",
      "legal mask: [ True  True  True  True  True  True  True]\n",
      "-0.9890274022010992\n",
      "              \n",
      "              \n",
      "              \n",
      "              \n",
      "#   O         \n",
      "# # O O O #   \n",
      "\n",
      "0 1 2 3 4 5 6\n",
      "legal mask: [ True  True  True  True  True  True  True]\n"
     ]
    },
    {
     "ename": "ValueError",
     "evalue": "invalid literal for int() with base 10: ''",
     "output_type": "error",
     "traceback": [
      "\u001b[0;31m---------------------------------------------------------------------------\u001b[0m",
      "\u001b[0;31mValueError\u001b[0m                                Traceback (most recent call last)",
      "Cell \u001b[0;32mIn[3], line 8\u001b[0m\n\u001b[1;32m      6\u001b[0m \u001b[39mwhile\u001b[39;00m \u001b[39mnot\u001b[39;00m e\u001b[39m.\u001b[39mgame_over():\n\u001b[1;32m      7\u001b[0m     \u001b[39mif\u001b[39;00m actor_turn:\n\u001b[0;32m----> 8\u001b[0m         obs, chosen_action, reward \u001b[39m=\u001b[39m actor\u001b[39m.\u001b[39;49mplay(e)\n\u001b[1;32m      9\u001b[0m     \u001b[39melse\u001b[39;00m:\n\u001b[1;32m     10\u001b[0m         opponent\u001b[39m.\u001b[39mplay(e)\n",
      "File \u001b[0;32m~/myworkspace/connect4/stage2-solution/player.py:50\u001b[0m, in \u001b[0;36mHumanPlayer.play\u001b[0;34m(self, e)\u001b[0m\n\u001b[1;32m     48\u001b[0m \u001b[39mprint\u001b[39m(\u001b[39m\"\u001b[39m\u001b[39m0 1 2 3 4 5 6\u001b[39m\u001b[39m\"\u001b[39m)\n\u001b[1;32m     49\u001b[0m \u001b[39mprint\u001b[39m(\u001b[39m\"\u001b[39m\u001b[39mlegal mask:\u001b[39m\u001b[39m\"\u001b[39m, legal_mask, flush\u001b[39m=\u001b[39m\u001b[39mTrue\u001b[39;00m)\n\u001b[0;32m---> 50\u001b[0m chosen_action \u001b[39m=\u001b[39m np\u001b[39m.\u001b[39;49mint8(\u001b[39minput\u001b[39;49m(\u001b[39m\"\u001b[39;49m\u001b[39mChoose action: \u001b[39;49m\u001b[39m\"\u001b[39;49m))\n\u001b[1;32m     51\u001b[0m reward \u001b[39m=\u001b[39m e\u001b[39m.\u001b[39mstep(chosen_action, \u001b[39mself\u001b[39m\u001b[39m.\u001b[39mplayer)\n\u001b[1;32m     53\u001b[0m \u001b[39mreturn\u001b[39;00m (obs, chosen_action, reward)\n",
      "\u001b[0;31mValueError\u001b[0m: invalid literal for int() with base 10: ''"
     ]
    }
   ],
   "source": [
    "actor_turn = True\n",
    "actor = player.HumanPlayer(env.PLAYER1)\n",
    "# minmax player with depth 3 and no randomness\n",
    "opponent = player.MinimaxPlayer(env.PLAYER2, 3, 0.0)\n",
    "\n",
    "while not e.game_over():\n",
    "    if actor_turn:\n",
    "        obs, chosen_action, reward = actor.play(e)\n",
    "    else:\n",
    "        opponent.play(e)\n",
    "    # flip turn\n",
    "    actor_turn = not actor_turn\n",
    "\n",
    "if e.winner() == env.PLAYER1:\n",
    "    print(\"You win!\")\n",
    "elif e.winner() == env.PLAYER2:\n",
    "    print(\"You lose!\")\n",
    "else:\n",
    "    print(\"Draw!\")\n"
   ]
  },
  {
   "cell_type": "code",
   "execution_count": null,
   "metadata": {},
   "outputs": [],
   "source": [
    "# Test MCTS vs Minimax\n",
    "e2 = env.Env(DIMS)\n",
    "\n",
    "# Create MCTS player with 1000 simulations per move\n",
    "mcts = player.MCTSPlayer(env.PLAYER1, simulations=1000, c_param=1.4142)\n",
    "\n",
    "# Create Minimax player with depth 4\n",
    "minimax = player.MinimaxPlayer(env.PLAYER2, depth=4, randomness=0.0)\n",
    "\n",
    "print(f\"{mcts.name()} vs {minimax.name()}\")\n",
    "print(\"=\" * 50)\n",
    "\n",
    "move_count = 0\n",
    "current_player = env.PLAYER1\n",
    "\n",
    "while not e2.game_over():\n",
    "    move_count += 1\n",
    "    \n",
    "    if current_player == env.PLAYER1:\n",
    "        print(f\"\\nMove {move_count} - MCTS's turn:\")\n",
    "        obs, action, reward = mcts.play(e2)\n",
    "        current_player = env.PLAYER2\n",
    "    else:\n",
    "        print(f\"\\nMove {move_count} - Minimax's turn:\")\n",
    "        obs, action, reward = minimax.play(e2)\n",
    "        current_player = env.PLAYER1\n",
    "    \n",
    "    print(f\"Action: Column {action}\")\n",
    "    env.print_obs(e2.observe(env.PLAYER1))\n",
    "\n",
    "# Display winner\n",
    "if e2.winner() == env.PLAYER1:\n",
    "    print(f\"\\n🏆 {mcts.name()} wins!\")\n",
    "elif e2.winner() == env.PLAYER2:\n",
    "    print(f\"\\n🏆 {minimax.name()} wins!\")\n",
    "else:\n",
    "    print(\"\\n🤝 It's a draw!\")\n"
   ]
  }
 ],
 "metadata": {
  "kernelspec": {
   "display_name": "Python 3",
   "language": "python",
   "name": "python3"
  },
  "language_info": {
   "codemirror_mode": {
    "name": "ipython",
    "version": 3
   },
   "file_extension": ".py",
   "mimetype": "text/x-python",
   "name": "python",
   "nbconvert_exporter": "python",
   "pygments_lexer": "ipython3",
   "version": "3.11.3"
  },
  "orig_nbformat": 4,
  "vscode": {
   "interpreter": {
    "hash": "e7370f93d1d0cde622a1f8e1c04877d8463912d04d973331ad4851f04de6915a"
   }
  }
 },
 "nbformat": 4,
 "nbformat_minor": 2
}
