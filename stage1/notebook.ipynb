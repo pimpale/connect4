{
 "cells": [
  {
   "cell_type": "code",
   "execution_count": 4,
   "metadata": {},
   "outputs": [
    {
     "name": "stdout",
     "output_type": "stream",
     "text": [
      "The autoreload extension is already loaded. To reload it, use:\n",
      "  %reload_ext autoreload\n"
     ]
    }
   ],
   "source": [
    "%load_ext autoreload\n",
    "%autoreload 2\n",
    "import env\n",
    "import policy"
   ]
  },
  {
   "cell_type": "code",
   "execution_count": 5,
   "metadata": {},
   "outputs": [],
   "source": [
    "e = env.Env()"
   ]
  },
  {
   "cell_type": "code",
   "execution_count": null,
   "metadata": {},
   "outputs": [
    {
     "name": "stdout",
     "output_type": "stream",
     "text": [
      "              \n",
      "              \n",
      "              \n",
      "              \n",
      "              \n",
      "              \n",
      "\n",
      "0 1 2 3 4 5 6\n",
      "legal mask: [ True  True  True  True  True  True  True]\n"
     ]
    },
    {
     "ename": "NotImplementedError",
     "evalue": "Step function not implemented",
     "output_type": "error",
     "traceback": [
      "\u001b[31m---------------------------------------------------------------------------\u001b[39m",
      "\u001b[31mNotImplementedError\u001b[39m                       Traceback (most recent call last)",
      "\u001b[36mCell\u001b[39m\u001b[36m \u001b[39m\u001b[32mIn[7]\u001b[39m\u001b[32m, line 8\u001b[39m\n\u001b[32m      6\u001b[39m \u001b[38;5;28;01mif\u001b[39;00m current_player == env.PLAYER1:\n\u001b[32m      7\u001b[39m     a = actor(e.state)\n\u001b[32m----> \u001b[39m\u001b[32m8\u001b[39m     \u001b[43me\u001b[49m\u001b[43m.\u001b[49m\u001b[43mstep\u001b[49m\u001b[43m(\u001b[49m\u001b[43ma\u001b[49m\u001b[43m)\u001b[49m\n\u001b[32m      9\u001b[39m \u001b[38;5;28;01melse\u001b[39;00m:\n\u001b[32m     10\u001b[39m     a = opponent(e.state)\n",
      "\u001b[36mFile \u001b[39m\u001b[32m~/myworkspace/connect4/stage1/env.py:122\u001b[39m, in \u001b[36mEnv.step\u001b[39m\u001b[34m(self, a)\u001b[39m\n\u001b[32m    115\u001b[39m \u001b[38;5;28;01mdef\u001b[39;00m\u001b[38;5;250m \u001b[39m\u001b[34mstep\u001b[39m(\u001b[38;5;28mself\u001b[39m, a: Action) -> \u001b[38;5;28mfloat\u001b[39m:\n\u001b[32m    116\u001b[39m     \u001b[38;5;66;03m# TODO: Implement the step function\u001b[39;00m\n\u001b[32m    117\u001b[39m     \u001b[38;5;66;03m### YOUR CODE HERE: ###\u001b[39;00m\n\u001b[32m   (...)\u001b[39m\u001b[32m    120\u001b[39m     \u001b[38;5;66;03m# 2. Check if the game is over. If so, set self._game_over and self._winner.\u001b[39;00m\n\u001b[32m    121\u001b[39m     \u001b[38;5;66;03m# 3. Return the reward for the agent.\u001b[39;00m\n\u001b[32m--> \u001b[39m\u001b[32m122\u001b[39m     \u001b[38;5;28;01mraise\u001b[39;00m \u001b[38;5;167;01mNotImplementedError\u001b[39;00m(\u001b[33m\"\u001b[39m\u001b[33mStep function not implemented\u001b[39m\u001b[33m\"\u001b[39m)\n",
      "\u001b[31mNotImplementedError\u001b[39m: Step function not implemented"
     ]
    }
   ],
   "source": [
    "actor = policy.HumanPolicy()\n",
    "opponent = policy.RandomPolicy()\n",
    "\n",
    "current_player = env.PLAYER1\n",
    "while not e.game_over():\n",
    "    if current_player == env.PLAYER1:\n",
    "        a = actor(e.state)\n",
    "        e.step(a)\n",
    "    else:\n",
    "        a = opponent(e.state)\n",
    "        e.step(a)\n",
    "    \n",
    "    if not e.game_over():\n",
    "        current_player = env.opponent(current_player)\n",
    "\n",
    "if e.winner() == env.PLAYER1:\n",
    "    print(\"You win!\")\n",
    "elif e.winner() == env.PLAYER2:\n",
    "    print(\"You lose!\")\n",
    "else:\n",
    "    print(\"Draw!\")\n",
    "print(\"Final board:\")\n",
    "env.print_state(e.state)"
   ]
  },
  {
   "cell_type": "code",
   "execution_count": null,
   "metadata": {},
   "outputs": [],
   "source": []
  }
 ],
 "metadata": {
  "kernelspec": {
   "display_name": ".venv",
   "language": "python",
   "name": "python3"
  },
  "language_info": {
   "codemirror_mode": {
    "name": "ipython",
    "version": 3
   },
   "file_extension": ".py",
   "mimetype": "text/x-python",
   "name": "python",
   "nbconvert_exporter": "python",
   "pygments_lexer": "ipython3",
   "version": "3.13.0"
  },
  "orig_nbformat": 4
 },
 "nbformat": 4,
 "nbformat_minor": 2
}
