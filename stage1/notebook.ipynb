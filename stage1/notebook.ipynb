{
 "cells": [
  {
   "cell_type": "code",
   "execution_count": 1,
   "metadata": {},
   "outputs": [],
   "source": [
    "%load_ext autoreload\n",
    "%autoreload 2\n",
    "import env\n",
    "import player\n"
   ]
  },
  {
   "cell_type": "code",
   "execution_count": 2,
   "metadata": {},
   "outputs": [],
   "source": [
    "BOARD_XSIZE=7\n",
    "BOARD_YSIZE=6\n",
    "DIMS=(BOARD_YSIZE,BOARD_XSIZE)\n",
    "e = env.Env(DIMS)"
   ]
  },
  {
   "cell_type": "code",
   "execution_count": null,
   "metadata": {},
   "outputs": [
    {
     "name": "stdout",
     "output_type": "stream",
     "text": [
      "              \n",
      "              \n",
      "              \n",
      "              \n",
      "              \n",
      "              \n",
      "\n",
      "0 1 2 3 4 5 6\n",
      "legal mask: [ True  True  True  True  True  True  True]\n"
     ]
    },
    {
     "ename": "ValueError",
     "evalue": "not enough values to unpack (expected 4, got 3)",
     "output_type": "error",
     "traceback": [
      "\u001b[31m---------------------------------------------------------------------------\u001b[39m",
      "\u001b[31mValueError\u001b[39m                                Traceback (most recent call last)",
      "\u001b[36mCell\u001b[39m\u001b[36m \u001b[39m\u001b[32mIn[4]\u001b[39m\u001b[32m, line 7\u001b[39m\n\u001b[32m      5\u001b[39m \u001b[38;5;28;01mwhile\u001b[39;00m \u001b[38;5;129;01mnot\u001b[39;00m e.game_over():\n\u001b[32m      6\u001b[39m     \u001b[38;5;28;01mif\u001b[39;00m current_player == env.PLAYER1:\n\u001b[32m----> \u001b[39m\u001b[32m7\u001b[39m         obs, action_probs, chosen_action, reward = actor.play(current_player, e)\n\u001b[32m      8\u001b[39m     \u001b[38;5;28;01melse\u001b[39;00m:\n\u001b[32m      9\u001b[39m         opponent.play(current_player, e)\n",
      "\u001b[31mValueError\u001b[39m: not enough values to unpack (expected 4, got 3)"
     ]
    }
   ],
   "source": [
    "actor = player.HumanPlayer()\n",
    "opponent = player.RandomPlayer()\n",
    "\n",
    "current_player = env.PLAYER1\n",
    "while not e.game_over():\n",
    "    if current_player == env.PLAYER1:\n",
    "        obs, action_probs, chosen_action, reward = actor.play(current_player, e)\n",
    "    else:\n",
    "        opponent.play(current_player, e)\n",
    "    \n",
    "    # flip turn\n",
    "    current_player = env.opponent(current_player)\n",
    "\n",
    "if e.winner() == env.PLAYER1:\n",
    "    print(\"You win!\")\n",
    "elif e.winner() == env.PLAYER2:\n",
    "    print(\"You lose!\")\n",
    "else:\n",
    "    print(\"Draw!\")"
   ]
  },
  {
   "cell_type": "code",
   "execution_count": null,
   "metadata": {},
   "outputs": [],
   "source": []
  }
 ],
 "metadata": {
  "kernelspec": {
   "display_name": ".venv",
   "language": "python",
   "name": "python3"
  },
  "language_info": {
   "codemirror_mode": {
    "name": "ipython",
    "version": 3
   },
   "file_extension": ".py",
   "mimetype": "text/x-python",
   "name": "python",
   "nbconvert_exporter": "python",
   "pygments_lexer": "ipython3",
   "version": "3.13.0"
  },
  "orig_nbformat": 4
 },
 "nbformat": 4,
 "nbformat_minor": 2
}
